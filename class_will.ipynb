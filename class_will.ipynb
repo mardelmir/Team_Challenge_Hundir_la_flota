{
 "cells": [
  {
   "cell_type": "code",
   "execution_count": 6,
   "metadata": {},
   "outputs": [],
   "source": [
    "import numpy as np\n",
    "import random\n"
   ]
  },
  {
   "cell_type": "code",
   "execution_count": 1,
   "metadata": {},
   "outputs": [],
   "source": [
    "# variables = \n",
    "\n",
    "board_size = 10\n",
    "SHIPS = SHIPS = {\n",
    "    'barco1': 4,\n",
    "    'barco2': 3,\n",
    "    'barco3': 3,\n",
    "    'barco4': 2,\n",
    "    'barco5': 2,\n",
    "    'barco6': 2,\n",
    "    'barco7': 1,\n",
    "    'barco8': 1,\n",
    "    'barco9': 1,\n",
    "    'barco10': 1\n",
    "}"
   ]
  },
  {
   "cell_type": "code",
   "execution_count": 2,
   "metadata": {},
   "outputs": [],
   "source": [
    "class Board:    # defines the class as 'Board'\n",
    "    def __init__(self, player_id):  # initializes instances of 'Board' class\n",
    "        self.player_id = player_id  # A way to store the ID of player or computer\n",
    "        self.size = board_size  # Sets the board size. This could be a good variable to store in the variables script\n",
    "        self.ships = SHIPS  # Ship lengths stored as values in a dictionary, also in variables script\n",
    "        self.board = np.full((self.size, self.size), '~')   # creates the actual board in whatever size is stores in 'size' variable (10)\n",
    "        self.shots_board = np.full((self.size, self.size), '~') # creates the second board for tracking where you have fired\n",
    "        self.ship_positions = []    # Stores the positions of the ships as tuples\n",
    "        self.lives = sum(self.ships.values()) # idea here is to make a way to track when all of the ships have been destroyed (not sure this will work??)\n",
    "        self.generate_ships()  # calls the first method (which chain calls the others to place ships on the board)\n",
    "\n",
    "    def generate_ships(self):\n",
    "        for length in self.ships.values():  # for loop iterates over the ship lengths in the SHIPS dictionary\n",
    "            placed = False  # initiates the coordinates as False\n",
    "            while not placed:\n",
    "                x, y = random.randint(0, self.size -1), random.randint(0, self.size -1) # generates an (x, y) set of coordinates using random\n",
    "                orientation = random.choice(['H', 'V']) # randomly selects if the orientation will be horiz or verti\n",
    "                if self.check_position(x, y, length, orientation): # calls the next method to check if ship can be placed on the board\n",
    "                    self.place_ships(x, y, length, orientation) # calls method to place the ships on the board\n",
    "                    placed = True   # if position is good, placed is set to True\n",
    "\n",
    "    def check_position(self, x, y, length, orientation):\n",
    "        if orientation == 'H':\n",
    "            if y + length > self.size:  # checks if length of ship is valid and fits within the board\n",
    "                return False\n",
    "            return all(self.board[x, y + i] == '~' for i in range(length))  # checks that all spaces within the ship's length are empty (e.g. contain '~')\n",
    "        else:   # same check but in vertical orientation\n",
    "            if x + length > self.size: \n",
    "                return False\n",
    "            return all(self.board[x + i, y] == '~' for i in range(length))\n",
    "        \n",
    "    def place_ships(self, x, y, length, orientation):   # actually places the ships on the board\n",
    "        if orientation =='H':\n",
    "            for i in range(length):\n",
    "                self.board[x, y + i] = 'S'   # places horizontal ship on the board\n",
    "                self.ship_positions.append((x, y, + i))  # updates coordinates of the ship in the ship_positions list\n",
    "        else:   # does same for the vertical ships\n",
    "            for i in range(length):\n",
    "                self.board[x + i, y] = 'S'\n",
    "                self.ship_positions.append((x + i, y))\n",
    "\n",
    "    def all_ships_sunk(self):\n",
    "        return self.total_lives == 0\n",
    "\n",
    "    def print_board(self, reveal_ships = False):\n",
    "        if reveal_ships:    # prints board with ships\n",
    "            for row in self.board:\n",
    "                print(\" \".join(row))\n",
    "        else:   # prints board without ships\n",
    "            for row in self.shots_board:\n",
    "                print(\" \".join(row))"
   ]
  },
  {
   "cell_type": "code",
   "execution_count": 16,
   "metadata": {},
   "outputs": [
    {
     "name": "stdout",
     "output_type": "stream",
     "text": [
      "~ S ~ ~ S ~ ~ ~ ~ ~\n",
      "S S ~ ~ ~ ~ ~ S S ~\n",
      "S S ~ ~ ~ ~ ~ ~ ~ ~\n",
      "S ~ ~ ~ S S ~ ~ ~ ~\n",
      "~ ~ ~ ~ S ~ ~ ~ ~ ~\n",
      "~ ~ ~ ~ ~ ~ ~ ~ ~ ~\n",
      "~ ~ ~ ~ ~ ~ ~ ~ ~ S\n",
      "~ ~ ~ ~ ~ ~ ~ ~ S S\n",
      "S S S S S ~ ~ ~ ~ ~\n",
      "~ ~ ~ ~ ~ ~ ~ ~ ~ ~\n",
      "\n",
      "~ ~ ~ ~ ~ ~ ~ ~ ~ ~\n",
      "~ ~ ~ ~ ~ ~ ~ ~ ~ ~\n",
      "~ ~ ~ ~ ~ ~ ~ ~ ~ ~\n",
      "~ ~ ~ ~ ~ ~ ~ ~ ~ ~\n",
      "~ ~ ~ ~ ~ ~ ~ ~ ~ ~\n",
      "~ ~ ~ ~ ~ ~ ~ ~ ~ ~\n",
      "~ ~ ~ ~ ~ ~ ~ ~ ~ ~\n",
      "~ ~ ~ ~ ~ ~ ~ ~ ~ ~\n",
      "~ ~ ~ ~ ~ ~ ~ ~ ~ ~\n",
      "~ ~ ~ ~ ~ ~ ~ ~ ~ ~\n"
     ]
    }
   ],
   "source": [
    "# my current thinking is this part would go into the main script\n",
    "player_board = Board(player_id = 1)\n",
    "computer_board = Board(player_id = 2)\n",
    "player_board.print_board(reveal_ships=True)\n",
    "print()\n",
    "computer_board.print_board(reveal_ships = False)\n"
   ]
  }
 ],
 "metadata": {
  "kernelspec": {
   "display_name": "Python 3",
   "language": "python",
   "name": "python3"
  },
  "language_info": {
   "codemirror_mode": {
    "name": "ipython",
    "version": 3
   },
   "file_extension": ".py",
   "mimetype": "text/x-python",
   "name": "python",
   "nbconvert_exporter": "python",
   "pygments_lexer": "ipython3",
   "version": "3.12.1"
  }
 },
 "nbformat": 4,
 "nbformat_minor": 2
}
