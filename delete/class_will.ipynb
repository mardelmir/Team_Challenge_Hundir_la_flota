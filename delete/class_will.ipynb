{
 "cells": [
  {
   "cell_type": "code",
   "execution_count": 16,
   "metadata": {},
   "outputs": [
    {
     "name": "stdout",
     "output_type": "stream",
     "text": [
      "~ S ~ ~ S ~ ~ ~ ~ ~\n",
      "S S ~ ~ ~ ~ ~ S S ~\n",
      "S S ~ ~ ~ ~ ~ ~ ~ ~\n",
      "S ~ ~ ~ S S ~ ~ ~ ~\n",
      "~ ~ ~ ~ S ~ ~ ~ ~ ~\n",
      "~ ~ ~ ~ ~ ~ ~ ~ ~ ~\n",
      "~ ~ ~ ~ ~ ~ ~ ~ ~ S\n",
      "~ ~ ~ ~ ~ ~ ~ ~ S S\n",
      "S S S S S ~ ~ ~ ~ ~\n",
      "~ ~ ~ ~ ~ ~ ~ ~ ~ ~\n",
      "\n",
      "~ ~ ~ ~ ~ ~ ~ ~ ~ ~\n",
      "~ ~ ~ ~ ~ ~ ~ ~ ~ ~\n",
      "~ ~ ~ ~ ~ ~ ~ ~ ~ ~\n",
      "~ ~ ~ ~ ~ ~ ~ ~ ~ ~\n",
      "~ ~ ~ ~ ~ ~ ~ ~ ~ ~\n",
      "~ ~ ~ ~ ~ ~ ~ ~ ~ ~\n",
      "~ ~ ~ ~ ~ ~ ~ ~ ~ ~\n",
      "~ ~ ~ ~ ~ ~ ~ ~ ~ ~\n",
      "~ ~ ~ ~ ~ ~ ~ ~ ~ ~\n",
      "~ ~ ~ ~ ~ ~ ~ ~ ~ ~\n"
     ]
    }
   ],
   "source": [
    "# my current thinking is this part would go into the main script\n",
    "player_board = Board(player_id = 1)\n",
    "computer_board = Board(player_id = 2)\n",
    "player_board.print_board(reveal_ships=True)\n",
    "print()\n",
    "computer_board.print_board(reveal_ships = False)\n"
   ]
  }
 ],
 "metadata": {
  "kernelspec": {
   "display_name": "Python 3",
   "language": "python",
   "name": "python3"
  },
  "language_info": {
   "codemirror_mode": {
    "name": "ipython",
    "version": 3
   },
   "file_extension": ".py",
   "mimetype": "text/x-python",
   "name": "python",
   "nbconvert_exporter": "python",
   "pygments_lexer": "ipython3",
   "version": "3.12.4"
  }
 },
 "nbformat": 4,
 "nbformat_minor": 2
}
