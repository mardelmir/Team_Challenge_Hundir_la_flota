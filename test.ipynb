{
 "cells": [
  {
   "cell_type": "code",
   "execution_count": 1,
   "metadata": {},
   "outputs": [],
   "source": [
    "import numpy as np\n",
    "import random\n",
    "\n",
    "import variables\n",
    "import clases\n",
    "import funciones"
   ]
  },
  {
   "cell_type": "markdown",
   "metadata": {},
   "source": [
    "#### Test"
   ]
  },
  {
   "cell_type": "code",
   "execution_count": 5,
   "metadata": {},
   "outputs": [
    {
     "data": {
      "text/plain": [
       "(26, 26)"
      ]
     },
     "execution_count": 5,
     "metadata": {},
     "output_type": "execute_result"
    }
   ],
   "source": [
    "def get_shot_coordinates(size):\n",
    "    '''\n",
    "    Requests shot coordinates to the player. The player can repeat coordinates from a previous shot.\n",
    "    Ensures the provided input is of type int for both row and column (col) coordinates by removing accidental blank spaces and replacing ',' with '.'.\n",
    "    Ensures the provided input is within the limits of the game board.\n",
    "    '''\n",
    "\n",
    "    try:\n",
    "        coordinates = []\n",
    "        for i in range(2):\n",
    "            input_value = (input(f'{'Fila' if i == 0 else 'Columna'} del disparo (1-10): ')).replace(' ', '').replace(',', '.')\n",
    "            if input_value == 'exit':\n",
    "                break\n",
    "            else:\n",
    "                coordinate = int(float(input_value)) - 1\n",
    "                if coordinate < 0:\n",
    "                    print('¡El valor introducido no es válido (número negativo)!')\n",
    "                    return get_shot_coordinates(size)\n",
    "                elif coordinate > size-1:\n",
    "                    print('¡La coordenada introducida está fuera del tablero!')\n",
    "                    return get_shot_coordinates(size)\n",
    "                else:\n",
    "                    coordinates.append(coordinate)\n",
    "        return tuple(coordinates)\n",
    "    except ValueError:\n",
    "        print('¡El valor introducido no es válido (texto)!')\n",
    "        get_shot_coordinates(size)\n",
    "\n",
    "\n",
    "get_shot_coordinates(27)\n"
   ]
  },
  {
   "cell_type": "code",
   "execution_count": 3,
   "metadata": {},
   "outputs": [
    {
     "name": "stdout",
     "output_type": "stream",
     "text": [
      "CPU times: user 184 μs, sys: 74 μs, total: 258 μs\n",
      "Wall time: 241 μs\n"
     ]
    },
    {
     "data": {
      "text/plain": [
       "array([[' ', ' ', '1', '2', '3', '4', '5'],\n",
       "       ['1', '1', '·', '·', '·', '·', '·'],\n",
       "       ['2', '2', '·', '·', '·', '·', '·'],\n",
       "       ['3', '3', '·', '·', '·', '·', '·'],\n",
       "       ['4', '4', '·', '·', '·', '·', '·'],\n",
       "       ['5', '5', '·', '·', '·', '·', '·']], dtype='<U21')"
      ]
     },
     "execution_count": 3,
     "metadata": {},
     "output_type": "execute_result"
    }
   ],
   "source": [
    "%%time\n",
    "size = 5\n",
    "test_board = np.full((size, size), '·')\n",
    "\n",
    "def add_index(board):\n",
    "    size = board.shape[0]\n",
    "    row_index = np.arange(size) + 1   \n",
    "    col_index = np.concatenate([[' '], row_index]).reshape(size + 1, 1)\n",
    "    return np.hstack([col_index, np.hstack([col_index, np.vstack([row_index, board])])])\n",
    "\n",
    "add_index(test_board)"
   ]
  },
  {
   "cell_type": "code",
   "execution_count": 4,
   "metadata": {},
   "outputs": [
    {
     "name": "stdout",
     "output_type": "stream",
     "text": [
      "CPU times: user 155 μs, sys: 20 μs, total: 175 μs\n",
      "Wall time: 197 μs\n"
     ]
    },
    {
     "data": {
      "text/plain": [
       "array([[' ', '1', '2', '3', '4', '5'],\n",
       "       ['1', '·', '·', '·', '·', '·'],\n",
       "       ['2', '·', '·', '·', '·', '·'],\n",
       "       ['3', '·', '·', '·', '·', '·'],\n",
       "       ['4', '·', '·', '·', '·', '·'],\n",
       "       ['5', '·', '·', '·', '·', '·']], dtype='<U21')"
      ]
     },
     "execution_count": 4,
     "metadata": {},
     "output_type": "execute_result"
    }
   ],
   "source": [
    "%%time\n",
    "size = 5\n",
    "test_board = np.full((size, size), '·')\n",
    "\n",
    "def add_index(board):\n",
    "    # Esta opción parece más rápida\n",
    "    \n",
    "    size = board.shape[0]\n",
    "    row_index = np.arange(size) + 1   \n",
    "    col_index = np.concatenate([[' '], row_index]).reshape(size + 1, 1)\n",
    "    stack_row = np.vstack([row_index, board])\n",
    "    final_board = np.hstack([col_index, stack_row])\n",
    "    return final_board\n",
    "\n",
    "add_index(test_board)"
   ]
  },
  {
   "cell_type": "code",
   "execution_count": null,
   "metadata": {},
   "outputs": [],
   "source": []
  }
 ],
 "metadata": {
  "kernelspec": {
   "display_name": "Python 3.12.4 (venv)",
   "language": "python",
   "name": "kernel_python3124"
  },
  "language_info": {
   "codemirror_mode": {
    "name": "ipython",
    "version": 3
   },
   "file_extension": ".py",
   "mimetype": "text/x-python",
   "name": "python",
   "nbconvert_exporter": "python",
   "pygments_lexer": "ipython3",
   "version": "3.12.4"
  }
 },
 "nbformat": 4,
 "nbformat_minor": 2
}
