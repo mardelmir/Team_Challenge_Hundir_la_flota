{
 "cells": [
  {
   "cell_type": "code",
   "execution_count": 136,
   "metadata": {},
   "outputs": [],
   "source": [
    "import numpy as np\n",
    "import random\n",
    "\n",
    "import variables\n",
    "import clases\n",
    "import funciones"
   ]
  },
  {
   "cell_type": "code",
   "execution_count": 155,
   "metadata": {},
   "outputs": [],
   "source": [
    "exit_game = False\n",
    "def get_shot_coordinates():\n",
    "    '''\n",
    "    Requests shot coordinates to the player. The player can repeat coordinates from a previous shot.\n",
    "    Ensures the provided input is of type int for both row and column (col) coordinates by removing accidental blank spaces and replacing ',' with '.'.\n",
    "    Ensures the provided input is within the limits of the game board.\n",
    "    '''\n",
    "    coordinates = []\n",
    "    for i in range(2):\n",
    "        input_value = (input(f'{'Fila' if i == 0 else 'Columna'} del disparo (1-10): ')).replace(' ', '').replace(',', '.')\n",
    "        if input_value == 'exit':\n",
    "            break\n",
    "        else:\n",
    "            coordinate = int(float(input_value)) - 1\n",
    "            if coordinate > 9:\n",
    "                print('¡La coordenada introducida está fuera del tablero!')\n",
    "                return get_shot_coordinates()\n",
    "            else:\n",
    "                coordinates.append(coordinate)\n",
    "    return tuple(coordinates)\n",
    "\n",
    "\n",
    "def shoot(player_board, oponent_board, coordinate):\n",
    "    if oponent_board.board[coordinate] == 'S':\n",
    "        oponent_board.board[coordinate] = 'X'\n",
    "        player_board.shots_board[coordinate] = 'X'\n",
    "        successful_shot = True\n",
    "    else:\n",
    "        oponent_board.board[coordinate] = '~'\n",
    "        player_board.shots_board[coordinate] = '-'\n",
    "        successful_shot = False\n",
    "    \n",
    "    return player_board, oponent_board, successful_shot"
   ]
  },
  {
   "cell_type": "code",
   "execution_count": 147,
   "metadata": {},
   "outputs": [],
   "source": [
    "shots_test = []"
   ]
  },
  {
   "cell_type": "code",
   "execution_count": 173,
   "metadata": {},
   "outputs": [
    {
     "data": {
      "text/plain": [
       "tuple"
      ]
     },
     "execution_count": 173,
     "metadata": {},
     "output_type": "execute_result"
    }
   ],
   "source": [
    "def generate_shot(pc_shots):\n",
    "    # Generates random shot coordinates for the PC, ensuring said coordinates are within the limits of the game board and have not been used before.\n",
    "\n",
    "    shot = tuple(np.random.randint(0, 9, (2,)))\n",
    "    if shot in pc_shots:\n",
    "        generate_shot(pc_shots)\n",
    "    else:\n",
    "        pc_shots.append(shot)\n",
    "    return pc_shots, shot\n",
    "\n",
    "test = generate_shot(shots_test)\n",
    "test_2 = generate_shot(shots_test)\n",
    "type(test_2)"
   ]
  },
  {
   "cell_type": "code",
   "execution_count": 192,
   "metadata": {},
   "outputs": [],
   "source": [
    "\n",
    "player_board = clases.Board(variables.PLAYER_ID, variables.BOARD_SIZE, variables.SHIPS)\n",
    "pc_board = clases.Board(variables.PC_ID, variables.BOARD_SIZE, variables.SHIPS)\n",
    "player_lives = 0"
   ]
  },
  {
   "cell_type": "code",
   "execution_count": 195,
   "metadata": {},
   "outputs": [],
   "source": [
    "pc_shots, coordinates = generate_shot(shots_test)\n",
    "# shot_result = shoot(player_board, pc_board, coordinates)\n",
    "# succesful_shot = shot_result[2]\n",
    "# succesful_shot\n",
    "if player_lives == 0 and sorted(pc_shots) == sorted(player_board.ship_positions):\n",
    "    print('lol')"
   ]
  },
  {
   "cell_type": "code",
   "execution_count": 138,
   "metadata": {},
   "outputs": [],
   "source": [
    "def shoot(player_board, oponent_board, coordinate):\n",
    "\n",
    "    if oponent_board.board[coordinate] == 'S':\n",
    "        oponent_board.board[coordinate] = 'X'\n",
    "        player_board.shots_board[coordinate] = 'X'\n",
    "        successful_shot = True\n",
    "    else:\n",
    "        oponent_board.board[coordinate] = '~'\n",
    "        player_board.shots_board[coordinate] = '-'\n",
    "        successful_shot = False\n",
    "    \n",
    "    return player_board, oponent_board, successful_shot"
   ]
  },
  {
   "cell_type": "markdown",
   "metadata": {},
   "source": [
    "#### test"
   ]
  },
  {
   "cell_type": "code",
   "execution_count": null,
   "metadata": {},
   "outputs": [],
   "source": []
  }
 ],
 "metadata": {
  "kernelspec": {
   "display_name": "Python 3",
   "language": "python",
   "name": "python3"
  },
  "language_info": {
   "codemirror_mode": {
    "name": "ipython",
    "version": 3
   },
   "file_extension": ".py",
   "mimetype": "text/x-python",
   "name": "python",
   "nbconvert_exporter": "python",
   "pygments_lexer": "ipython3",
   "version": "3.12.3"
  }
 },
 "nbformat": 4,
 "nbformat_minor": 2
}
