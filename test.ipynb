{
 "cells": [
  {
   "cell_type": "code",
   "execution_count": 1,
   "metadata": {},
   "outputs": [],
   "source": [
    "import numpy as np\n",
    "import random\n",
    "\n",
    "import variables\n",
    "import clases\n",
    "import funciones"
   ]
  },
  {
   "cell_type": "markdown",
   "metadata": {},
   "source": [
    "#### Test Board"
   ]
  },
  {
   "cell_type": "code",
   "execution_count": 12,
   "metadata": {},
   "outputs": [
    {
     "data": {
      "text/plain": [
       "array([[' ', '1', '2', '3', '4', '5', '6', '7'],\n",
       "       ['1', '·', '·', '·', '·', '·', '·', '·'],\n",
       "       ['2', '·', '·', '·', '·', '·', '·', '·'],\n",
       "       ['3', '·', '·', '·', '·', '·', '·', '·'],\n",
       "       ['4', '·', '·', '·', '·', '·', '·', '·'],\n",
       "       ['5', '·', '·', '·', '·', '·', '·', '·'],\n",
       "       ['6', '·', '·', '·', '·', '·', '·', '·'],\n",
       "       ['7', '·', '·', '·', '·', '·', '·', '·']], dtype='<U21')"
      ]
     },
     "execution_count": 12,
     "metadata": {},
     "output_type": "execute_result"
    }
   ],
   "source": [
    "size = 7\n",
    "board = np.full((size, size), '·')\n",
    "def add_index(board):\n",
    "    # Generates an empty board with specified size as an array with numbered intexes on the first row and column\n",
    "    size = board.shape[0]\n",
    "    row_index = np.arange(size) + 1   \n",
    "    col_index = np.concatenate([[' '], row_index]).reshape(size + 1, 1)\n",
    "    stack_row = np.vstack([row_index, board])\n",
    "    return np.hstack([col_index, stack_row])\n",
    "\n",
    "add_index(board)"
   ]
  },
  {
   "cell_type": "markdown",
   "metadata": {},
   "source": [
    "#### Test"
   ]
  },
  {
   "cell_type": "code",
   "execution_count": 8,
   "metadata": {},
   "outputs": [
    {
     "data": {
      "text/plain": [
       "5"
      ]
     },
     "execution_count": 8,
     "metadata": {},
     "output_type": "execute_result"
    }
   ],
   "source": [
    "size = 5\n",
    "main_board = np.full((size, size), ' ')\n",
    "main_board.shape[0]\n",
    "# row_index = np.arange(size) + 1   \n",
    "# col_index = np.concatenate([[' '], row_index]).reshape(size + 1, 1)\n",
    "# stack_row = np.vstack([row_index, main_board])\n",
    "# stack_row\n"
   ]
  },
  {
   "cell_type": "code",
   "execution_count": null,
   "metadata": {},
   "outputs": [],
   "source": []
  }
 ],
 "metadata": {
  "kernelspec": {
   "display_name": "Python 3.12.4 (venv)",
   "language": "python",
   "name": "kernel_python3124"
  },
  "language_info": {
   "codemirror_mode": {
    "name": "ipython",
    "version": 3
   },
   "file_extension": ".py",
   "mimetype": "text/x-python",
   "name": "python",
   "nbconvert_exporter": "python",
   "pygments_lexer": "ipython3",
   "version": "3.12.4"
  }
 },
 "nbformat": 4,
 "nbformat_minor": 2
}
