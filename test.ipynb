{
 "cells": [
  {
   "cell_type": "code",
   "execution_count": 1,
   "metadata": {},
   "outputs": [],
   "source": [
    "import numpy as np\n",
    "import random\n",
    "\n",
    "import variables\n",
    "import clases\n",
    "import funciones"
   ]
  },
  {
   "cell_type": "markdown",
   "metadata": {},
   "source": [
    "#### test"
   ]
  },
  {
   "cell_type": "code",
   "execution_count": 2,
   "metadata": {},
   "outputs": [],
   "source": [
    "      # self.board = self.generate_board()\n",
    "        # self.shots_board = self.generate_board()\n",
    " # def generate_board(self):\n",
    "    #     # Generates an empty board with specified size as an array with numbered intexes on the first row and column\n",
    "        \n",
    "    #     main_board = np.full((self.size, self.size), ' ')\n",
    "    #     row_index = np.arange(self.size) + 1   \n",
    "    #     col_index = np.concatenate([[' '], row_index]).reshape(self.size + 1, 1)\n",
    "    #     stack_row = np.vstack([row_index, main_board])\n",
    "    #     return np.hstack([col_index, stack_row])"
   ]
  },
  {
   "cell_type": "code",
   "execution_count": 3,
   "metadata": {},
   "outputs": [
    {
     "data": {
      "text/plain": [
       "array([[' ']], dtype='<U21')"
      ]
     },
     "execution_count": 3,
     "metadata": {},
     "output_type": "execute_result"
    }
   ],
   "source": [
    "size = 0\n",
    "def generate_board(size):\n",
    "    # Generates an empty board with specified size as an array with numbered intexes on the first row and column\n",
    "    main_board = np.full((size, size), ' ')\n",
    "    row_index = np.arange(size) + 1   \n",
    "    col_index = np.concatenate([[' '], row_index]).reshape(size + 1, 1)\n",
    "    stack_row = np.vstack([row_index, main_board])\n",
    "    return np.hstack([col_index, stack_row])\n",
    "\n",
    "generate_board(size)"
   ]
  },
  {
   "cell_type": "markdown",
   "metadata": {},
   "source": [
    "#### test"
   ]
  },
  {
   "cell_type": "code",
   "execution_count": 4,
   "metadata": {},
   "outputs": [],
   "source": [
    "import numpy as np\n",
    "import random\n",
    "\n",
    "class Board:\n",
    "    '''\n",
    "    Defines the class as Board\n",
    "    \n",
    "        Argument (constructor):\n",
    "                player_id (str): string received from input, default value if left empty\n",
    "                board_size (int)\n",
    "                ships (dict)\n",
    "            \n",
    "        Attributes:\n",
    "            player_id (str): A way to store the ID of player or computer\n",
    "            size (int): Sets the board size.\n",
    "            ships (dict): Ship lengths stored as values in a dictionary, also in variables script\n",
    "            board (NDArray): Creates the actual board in whatever size is stores in 'size' variable (10)\n",
    "            shots_board (NDArray): Creates the second board for tracking where you have fired\n",
    "            ships_positions (list): Stores the positions of the ships as tuples in a list\n",
    "    '''\n",
    "    \n",
    "    def __init__(self, player_id, board_size, ships):\n",
    "        '''\n",
    "        Initializes an instance of 'Board' class\n",
    "        It generates all attributes and calls Board.generate_ship() method which chain calls the others to place ships on the board\n",
    "        '''\n",
    "        self.player_id = player_id \n",
    "        self.size = board_size  \n",
    "        self.ships = ships  \n",
    "        self.board = self.generate_board()\n",
    "        self.shots_board = self.generate_board()\n",
    "        \n",
    "    def generate_board(self):\n",
    "        # Generates an empty board with specified size as an array with numbered intexes on the first row and column\n",
    "        \n",
    "        main_board = np.full((self.size, self.size), ' ')\n",
    "        row_index = np.arange(self.size) + 1   \n",
    "        col_index = np.concatenate([[' '], row_index]).reshape(self.size + 1, 1)\n",
    "        stack_row = np.vstack([row_index, main_board])\n",
    "        return np.hstack([col_index, stack_row])\n",
    "    \n",
    "    def generate_ships(self):\n",
    "        '''\n",
    "        Randomly generates an (x, y) set of coordinates using random based on the length of the ships (values from ships dictionary).\n",
    "        It randomly selects if the orientation will be horizontal or vertical and calls check_position method to check if ship can be placed on the board.\n",
    "        If check_position doesn't return False, it calls place_ships to place the ships on the board.\n",
    "        '''\n",
    "        for length in self.ships.values():\n",
    "            placed = False \n",
    "            while not placed:\n",
    "                x, y = random.randint(0, self.size -1), random.randint(0, self.size -1)\n",
    "                orientation = random.choice(['H', 'V']) \n",
    "                \n",
    "                if self.check_position(x, y, length, orientation):\n",
    "                    self.place_ships(x, y, length, orientation)\n",
    "                    placed = True\n",
    "                    \n",
    "    def check_position(self, x, y, length, orientation):\n",
    "        '''\n",
    "        Checks for both horizontal and vertical orientation if:\n",
    "            - The length of the ship is valid and fits within the board.\n",
    "            - That all spaces within the ship's length are empty (e.g. contain '·'), aka it's not already occupied by another ship.\n",
    "        '''\n",
    "        if orientation == 'H':\n",
    "            if y + length > self.size:  \n",
    "                return False\n",
    "        \n",
    "            # Verificar si board tiene el tipo esperado antes de operar con él\n",
    "            if isinstance(self.board, np.ndarray):\n",
    "                # Realizar operaciones con board\n",
    "                pass\n",
    "            else:\n",
    "                # Manejar el caso en que board no sea del tipo esperado\n",
    "                raise TypeError(\"board no es un numpy.ndarray como se esperaba\")\n",
    "            return all(self.board[x, y + i] == '·' for i in range(length))  \n",
    "        else:\n",
    "            if x + length > self.size: \n",
    "                return False\n",
    "            print(type(self.board))\n",
    "            if isinstance(self.board, np.ndarray):\n",
    "                # Realizar operaciones con board\n",
    "                pass\n",
    "            return all(self.board[x + i, y] == '·' for i in range(length))\n",
    "    \n",
    "    def place_ships(self, x, y, length, orientation):\n",
    "        # Places the ship on the board and updates coordinates of the ship in the ship_positions list\n",
    "        \n",
    "        if orientation =='H':\n",
    "            for i in range(length):\n",
    "                if isinstance(self.board, np.ndarray):\n",
    "                # Realizar operaciones con board\n",
    "                    pass\n",
    "                self.board[x, y + i] = 'S'\n",
    "                self.ship_positions.append((x, y, + i))\n",
    "        else:\n",
    "            for i in range(length):\n",
    "                self.board[x + i, y] = 'S'\n",
    "                self.ship_positions.append((x + i, y))\n",
    "\n",
    "    def update_board(self, updated_ships = False, updated_shots = False):\n",
    "        if updated_ships:\n",
    "            self.board = updated_ships\n",
    "        if updated_shots:\n",
    "            self.shots_board = updated_shots\n",
    "        \n",
    "\n",
    "    def print_board(self, reveal_ships = False):\n",
    "        # Prints boards with or whitout ships\n",
    "        \n",
    "        if reveal_ships: \n",
    "            for row in self.board:\n",
    "                print(\" \".join(row))\n",
    "        else:\n",
    "            for row in self.shots_board:\n",
    "                print(\" \".join(row))\n",
    "    "
   ]
  },
  {
   "cell_type": "code",
   "execution_count": 5,
   "metadata": {},
   "outputs": [],
   "source": [
    "test = Board(variables.PLAYER_ID, variables.BOARD_SIZE, variables.SHIPS)"
   ]
  },
  {
   "cell_type": "code",
   "execution_count": null,
   "metadata": {},
   "outputs": [],
   "source": []
  }
 ],
 "metadata": {
  "kernelspec": {
   "display_name": "Python 3",
   "language": "python",
   "name": "python3"
  },
  "language_info": {
   "codemirror_mode": {
    "name": "ipython",
    "version": 3
   },
   "file_extension": ".py",
   "mimetype": "text/x-python",
   "name": "python",
   "nbconvert_exporter": "python",
   "pygments_lexer": "ipython3",
   "version": "3.12.3"
  }
 },
 "nbformat": 4,
 "nbformat_minor": 2
}
