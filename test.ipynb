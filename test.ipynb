{
 "cells": [
  {
   "cell_type": "code",
   "execution_count": 1,
   "metadata": {},
   "outputs": [],
   "source": [
    "import numpy as np\n",
    "import random\n",
    "\n",
    "import variables\n",
    "import clases\n",
    "import funciones"
   ]
  },
  {
   "cell_type": "markdown",
   "metadata": {},
   "source": [
    "#### Test"
   ]
  },
  {
   "cell_type": "code",
   "execution_count": 20,
   "metadata": {},
   "outputs": [
    {
     "data": {
      "text/plain": [
       "(33, 33)"
      ]
     },
     "execution_count": 20,
     "metadata": {},
     "output_type": "execute_result"
    }
   ],
   "source": [
    "def get_shot_coordinates(size):\n",
    "    '''\n",
    "    Requests shot coordinates to the player. The player can repeat coordinates from a previous shot.\n",
    "    Ensures the provided input is of type int for both row and column (col) coordinates by removing accidental blank spaces and replacing ',' with '.'.\n",
    "    Ensures the provided input is within the limits of the game board.\n",
    "    '''\n",
    "\n",
    "    try:\n",
    "        coordinates = []\n",
    "        for i in range(2):\n",
    "            input_value = (input(f'{'Fila' if i == 0 else 'Columna'} del disparo (1-10): ')).replace(' ', '').replace(',', '.')\n",
    "            if input_value == 'exit':\n",
    "                break\n",
    "            else:\n",
    "                coordinate = int(float(input_value)) - 1\n",
    "                if coordinate < 0:\n",
    "                    print('¡El valor introducido no es válido (número negativo)!')\n",
    "                    return get_shot_coordinates(size)\n",
    "                elif coordinate > size-1:\n",
    "                    print('¡La coordenada introducida está fuera del tablero!')\n",
    "                    return get_shot_coordinates(size)\n",
    "                else:\n",
    "                    coordinates.append(coordinate)\n",
    "        return tuple(coordinates)\n",
    "    except ValueError:\n",
    "        print('¡El valor introducido no es válido (texto)!')\n",
    "        get_shot_coordinates(size)\n",
    "\n",
    "\n",
    "get_shot_coordinates(34)\n"
   ]
  },
  {
   "cell_type": "code",
   "execution_count": null,
   "metadata": {},
   "outputs": [],
   "source": []
  }
 ],
 "metadata": {
  "kernelspec": {
   "display_name": "Python 3.12.4 (venv)",
   "language": "python",
   "name": "kernel_python3124"
  },
  "language_info": {
   "codemirror_mode": {
    "name": "ipython",
    "version": 3
   },
   "file_extension": ".py",
   "mimetype": "text/x-python",
   "name": "python",
   "nbconvert_exporter": "python",
   "pygments_lexer": "ipython3",
   "version": "3.12.4"
  }
 },
 "nbformat": 4,
 "nbformat_minor": 2
}
