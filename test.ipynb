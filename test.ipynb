{
 "cells": [
  {
   "cell_type": "code",
   "execution_count": 1,
   "metadata": {},
   "outputs": [],
   "source": [
    "import numpy as np\n",
    "import random\n",
    "\n",
    "import variables\n",
    "import clases\n",
    "import funciones"
   ]
  },
  {
   "cell_type": "code",
   "execution_count": null,
   "metadata": {},
   "outputs": [],
   "source": [
    "      # self.board = self.generate_board()\n",
    "        # self.shots_board = self.generate_board()\n",
    " # def generate_board(self):\n",
    "    #     # Generates an empty board with specified size as an array with numbered intexes on the first row and column\n",
    "        \n",
    "    #     main_board = np.full((self.size, self.size), ' ')\n",
    "    #     row_index = np.arange(self.size) + 1   \n",
    "    #     col_index = np.concatenate([[' '], row_index]).reshape(self.size + 1, 1)\n",
    "    #     stack_row = np.vstack([row_index, main_board])\n",
    "    #     return np.hstack([col_index, stack_row])"
   ]
  },
  {
   "cell_type": "code",
   "execution_count": 2,
   "metadata": {},
   "outputs": [
    {
     "data": {
      "text/plain": [
       "array([[' ', '1', '2', '3', '4', '5', '6', '7', '8', '9'],\n",
       "       ['1', ' ', ' ', ' ', ' ', ' ', ' ', ' ', ' ', ' '],\n",
       "       ['2', ' ', ' ', ' ', ' ', ' ', ' ', ' ', ' ', ' '],\n",
       "       ['3', ' ', ' ', ' ', ' ', ' ', ' ', ' ', ' ', ' '],\n",
       "       ['4', ' ', ' ', ' ', ' ', ' ', ' ', ' ', ' ', ' '],\n",
       "       ['5', ' ', ' ', ' ', ' ', ' ', ' ', ' ', ' ', ' '],\n",
       "       ['6', ' ', ' ', ' ', ' ', ' ', ' ', ' ', ' ', ' '],\n",
       "       ['7', ' ', ' ', ' ', ' ', ' ', ' ', ' ', ' ', ' '],\n",
       "       ['8', ' ', ' ', ' ', ' ', ' ', ' ', ' ', ' ', ' '],\n",
       "       ['9', ' ', ' ', ' ', ' ', ' ', ' ', ' ', ' ', ' ']], dtype='<U21')"
      ]
     },
     "execution_count": 2,
     "metadata": {},
     "output_type": "execute_result"
    }
   ],
   "source": [
    "size = 9\n",
    "def generate_board(size):\n",
    "    # Generates an empty board with specified size as an array with numbered intexes on the first row and column\n",
    "    main_board = np.full((size, size), ' ')\n",
    "    row_index = np.arange(size) + 1   \n",
    "    col_index = np.concatenate([[' '], row_index]).reshape(size + 1, 1)\n",
    "    stack_row = np.vstack([row_index, main_board])\n",
    "    return np.hstack([col_index, stack_row])\n",
    "\n",
    "generate_board(size)"
   ]
  },
  {
   "cell_type": "markdown",
   "metadata": {},
   "source": [
    "#### test"
   ]
  },
  {
   "cell_type": "code",
   "execution_count": null,
   "metadata": {},
   "outputs": [],
   "source": []
  }
 ],
 "metadata": {
  "kernelspec": {
   "display_name": "Python 3.12.4 (venv)",
   "language": "python",
   "name": "kernel_python3124"
  },
  "language_info": {
   "codemirror_mode": {
    "name": "ipython",
    "version": 3
   },
   "file_extension": ".py",
   "mimetype": "text/x-python",
   "name": "python",
   "nbconvert_exporter": "python",
   "pygments_lexer": "ipython3",
   "version": "3.12.4"
  }
 },
 "nbformat": 4,
 "nbformat_minor": 2
}
